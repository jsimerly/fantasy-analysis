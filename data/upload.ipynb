{
 "cells": [
  {
   "cell_type": "code",
   "execution_count": 2,
   "metadata": {},
   "outputs": [],
   "source": [
    "from sqlalchemy import create_engine\n",
    "from sqlalchemy.orm import sessionmaker\n",
    "import pandas as pd\n",
    "import numpy as np\n",
    "import os\n",
    "import psycopg2\n",
    "from dotenv import load_dotenv\n",
    "\n",
    "from models import Player, GameStats"
   ]
  },
  {
   "cell_type": "code",
   "execution_count": 3,
   "metadata": {},
   "outputs": [],
   "source": [
    "load_dotenv()\n",
    "DB_USERNAME = os.environ['DB_USERNAME']\n",
    "DB_PASSWORD = os.environ['DB_PASSWORD']\n",
    "DB_HOST = os.environ['DB_HOST']\n",
    "DB_PORT = os.environ['DB_PORT']\n",
    "DB_NAME = os.environ['DB_NAME']\n",
    "\n",
    "DB_URL = f\"postgresql://{DB_USERNAME}:{DB_PASSWORD}@{DB_HOST}:{DB_PORT}/{DB_NAME}\"\n",
    "engine = create_engine(DB_URL, echo=False)"
   ]
  },
  {
   "cell_type": "code",
   "execution_count": 4,
   "metadata": {},
   "outputs": [],
   "source": [
    "Session = sessionmaker(bind=engine)\n",
    "session = Session()\n",
    "player_df = pd.read_csv('players.csv')\n",
    "player_df['birth_date'] = pd.to_datetime(player_df['birth_date'], errors='coerce')\n",
    "player_df.replace({np.nan : None}, inplace=True)\n"
   ]
  },
  {
   "cell_type": "code",
   "execution_count": 4,
   "metadata": {},
   "outputs": [
    {
     "name": "stdout",
     "output_type": "stream",
     "text": [
      "\n",
      " 20039 Players added or updated.\n"
     ]
    }
   ],
   "source": [
    "# upload player data\n",
    "\n",
    "no_errors = True\n",
    "try:\n",
    "    for id, player_data in player_df.iterrows():\n",
    "        existing_or_new_player = Player(\n",
    "            id=id,\n",
    "            gsis_id = player_data['gsis_id'],\n",
    "            gsis_it_id = player_data['gsis_it_id'],\n",
    "            ktc_id = None,\n",
    "\n",
    "            status = player_data['status'],\n",
    "            display_name = player_data['display_name'],\n",
    "            football_name = player_data['football_name'],\n",
    "            birth_date = player_data['birth_date'],\n",
    "\n",
    "            position_group = player_data['position_group'],\n",
    "            position = player_data['position'],\n",
    "\n",
    "            height = player_data['height'],\n",
    "            weight = player_data['weight'],\n",
    "            yoe = player_data['years_of_experience'],\n",
    "            team_abbr = player_data['team_abbr'],\n",
    "            current_team_id = player_data['current_team_id'],\n",
    "\n",
    "            entry_year = player_data['entry_year'],\n",
    "            rookie_year= player_data['entry_year'],\n",
    "\n",
    "            college = player_data['college_name'],\n",
    "            college_conf = player_data['college_conference'],\n",
    "            draft_club = player_data['draft_club'],\n",
    "            draft_number = player_data['draft_number'],\n",
    "            draft_round = player_data['draft_round'],\n",
    "\n",
    "            uniform_number = player_data['uniform_number'],\n",
    "            jersey_number = player_data['jersey_number']\n",
    "        )\n",
    "        session.merge(existing_or_new_player)\n",
    "except psycopg2.DataError as e:\n",
    "    print('\\n ----------------- Error ---------------')\n",
    "    # print(e)\n",
    "    print(player_data)\n",
    "    no_errors = False\n",
    "    session.rollback()\n",
    "    \n",
    "if no_errors:\n",
    "    session.commit()\n",
    "    n_player = session.query(Player).count()\n",
    "    print(f'\\n {n_player} Players added or updated.')\n",
    "    "
   ]
  },
  {
   "cell_type": "code",
   "execution_count": 5,
   "metadata": {},
   "outputs": [],
   "source": [
    "game_df = pd.read_csv('player_stats.csv')\n",
    "game_df.replace({np.nan : None}, inplace=True)"
   ]
  },
  {
   "cell_type": "code",
   "execution_count": 6,
   "metadata": {},
   "outputs": [
    {
     "data": {
      "text/plain": [
       "Index(['player_id', 'player_name', 'player_display_name', 'position',\n",
       "       'position_group', 'headshot_url', 'recent_team', 'season', 'week',\n",
       "       'season_type', 'opponent_team', 'completions', 'attempts',\n",
       "       'passing_yards', 'passing_tds', 'interceptions', 'sacks', 'sack_yards',\n",
       "       'sack_fumbles', 'sack_fumbles_lost', 'passing_air_yards',\n",
       "       'passing_yards_after_catch', 'passing_first_downs', 'passing_epa',\n",
       "       'passing_2pt_conversions', 'pacr', 'dakota', 'carries', 'rushing_yards',\n",
       "       'rushing_tds', 'rushing_fumbles', 'rushing_fumbles_lost',\n",
       "       'rushing_first_downs', 'rushing_epa', 'rushing_2pt_conversions',\n",
       "       'receptions', 'targets', 'receiving_yards', 'receiving_tds',\n",
       "       'receiving_fumbles', 'receiving_fumbles_lost', 'receiving_air_yards',\n",
       "       'receiving_yards_after_catch', 'receiving_first_downs', 'receiving_epa',\n",
       "       'receiving_2pt_conversions', 'racr', 'target_share', 'air_yards_share',\n",
       "       'wopr', 'special_teams_tds', 'fantasy_points', 'fantasy_points_ppr'],\n",
       "      dtype='object')"
      ]
     },
     "execution_count": 6,
     "metadata": {},
     "output_type": "execute_result"
    }
   ],
   "source": [
    "game_df.columns"
   ]
  },
  {
   "cell_type": "code",
   "execution_count": 7,
   "metadata": {},
   "outputs": [
    {
     "name": "stderr",
     "output_type": "stream",
     "text": [
      "C:\\Users\\simer\\AppData\\Local\\Temp\\ipykernel_21452\\1943157807.py:55: SAWarning: Object of type <GameStats> not in session, add operation along 'Player.game_stats' will not proceed (This warning originated from the Session 'autoflush' process, which was invoked automatically in response to a user-initiated operation.)\n",
      "  session.merge(existing_or_new_player)\n"
     ]
    },
    {
     "name": "stdout",
     "output_type": "stream",
     "text": [
      "\n",
      " 129741 Games added or updated.\n"
     ]
    }
   ],
   "source": [
    "no_errors = True\n",
    "try:\n",
    "    for id, game_data in game_df.iterrows():\n",
    "        player = session.query(Player).filter_by(gsis_id=game_data['player_id']).first()\n",
    "        \n",
    "        existing_or_new_player = GameStats(\n",
    "            id = id,\n",
    "            player = player,\n",
    "            season = game_data['season'],\n",
    "            week = game_data['week'],\n",
    "            season_type = game_data['season_type'],\n",
    "            opponent_team = game_data['opponent_team'],\n",
    "\n",
    "            completions = game_data['completions'],\n",
    "            attempts = game_data['attempts'],\n",
    "            passing_yards = game_data['passing_yards'],\n",
    "            passing_tds = game_data['passing_tds'],\n",
    "            interceptions = game_data['interceptions'],\n",
    "            sacks = game_data['sacks'],\n",
    "            sack_yards = game_data['sack_yards'],\n",
    "            sack_fumbles = game_data['sack_fumbles'],\n",
    "            sack_fumbles_lost = game_data['sack_fumbles_lost'],\n",
    "            passing_air_yards = game_data['passing_air_yards'],\n",
    "            passing_yards_after_catch = game_data['passing_yards_after_catch'],\n",
    "            passing_first_downs = game_data['passing_first_downs'],\n",
    "            passing_epa = game_data['passing_epa'],\n",
    "\n",
    "            rushing_tds = game_data['rushing_tds'],\n",
    "            rushing_yards = game_data['rushing_yards'],\n",
    "            rushing_fumbles = game_data['rushing_fumbles'],\n",
    "            rushing_fumbles_lost = game_data['rushing_fumbles_lost'],\n",
    "            rushing_first_downs = game_data['rushing_first_downs'],\n",
    "            rushing_epa = game_data['rushing_epa'],\n",
    "            rushing_2pt_conversion = game_data['rushing_2pt_conversions'],\n",
    "\n",
    "            receptions = game_data['receptions'],\n",
    "            targets = game_data['targets'],\n",
    "            receiving_yards = game_data['rushing_yards'],\n",
    "            receiving_tds = game_data['receiving_tds'],\n",
    "            receiving_fumbles = game_data['receiving_fumbles'],\n",
    "            receiving_air_yards = game_data['receiving_air_yards'],\n",
    "            receiving_yards_after_catch = game_data['receiving_yards_after_catch'],\n",
    "            receiving_first_downs = game_data['receiving_first_downs'],\n",
    "            receiving_epa = game_data['receiving_epa'],\n",
    "            racr = game_data['racr'],\n",
    "            target_share = game_data['target_share'],\n",
    "            air_yards_share = game_data['air_yards_share'],\n",
    "            wopr = game_data['wopr'],\n",
    "            special_teams_tds = game_data['special_teams_tds'],\n",
    "\n",
    "            fantasy_points = game_data['fantasy_points'],\n",
    "            fantasy_points_ppr = game_data['fantasy_points_ppr']\n",
    "        )\n",
    "\n",
    "        session.merge(existing_or_new_player)\n",
    "except psycopg2.DataError as e:\n",
    "    print('\\n ----------------- Error ---------------')\n",
    "    # print(e)\n",
    "    print(player_data)\n",
    "    no_errors = False\n",
    "    session.rollback()\n",
    "    \n",
    "if no_errors:\n",
    "    session.commit()\n",
    "    n_player = session.query(GameStats).count()\n",
    "    print(f'\\n {n_player} Games added or updated.')\n",
    "    "
   ]
  },
  {
   "cell_type": "code",
   "execution_count": 8,
   "metadata": {},
   "outputs": [],
   "source": [
    "session.close()"
   ]
  }
 ],
 "metadata": {
  "kernelspec": {
   "display_name": "venv",
   "language": "python",
   "name": "python3"
  },
  "language_info": {
   "codemirror_mode": {
    "name": "ipython",
    "version": 3
   },
   "file_extension": ".py",
   "mimetype": "text/x-python",
   "name": "python",
   "nbconvert_exporter": "python",
   "pygments_lexer": "ipython3",
   "version": "3.10.1"
  }
 },
 "nbformat": 4,
 "nbformat_minor": 2
}
